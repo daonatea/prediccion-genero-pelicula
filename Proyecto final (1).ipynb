{
 "cells": [
  {
   "cell_type": "code",
   "execution_count": 1,
   "id": "ce01b00a",
   "metadata": {},
   "outputs": [],
   "source": [
    "#pip install spacy_transformers"
   ]
  },
  {
   "cell_type": "code",
   "execution_count": 2,
   "id": "e2c78c4d",
   "metadata": {},
   "outputs": [],
   "source": [
    "#!python -m spacy download en_core_web_trf"
   ]
  },
  {
   "cell_type": "code",
   "execution_count": 3,
   "id": "c740468f",
   "metadata": {},
   "outputs": [
    {
     "name": "stdout",
     "output_type": "stream",
     "text": [
      "Requirement already satisfied: lightgbm in c:\\users\\adria\\anaconda3\\envs\\mi_entorno_virtual\\lib\\site-packages (4.3.0)\n",
      "Requirement already satisfied: numpy in c:\\users\\adria\\anaconda3\\envs\\mi_entorno_virtual\\lib\\site-packages (from lightgbm) (1.23.5)\n",
      "Requirement already satisfied: scipy in c:\\users\\adria\\anaconda3\\envs\\mi_entorno_virtual\\lib\\site-packages (from lightgbm) (1.10.1)\n"
     ]
    }
   ],
   "source": [
    "#!python -m spacy download en_core_web_sm\n",
    "!pip install --upgrade lightgbm"
   ]
  },
  {
   "cell_type": "code",
   "execution_count": 4,
   "id": "37def368",
   "metadata": {},
   "outputs": [
    {
     "name": "stderr",
     "output_type": "stream",
     "text": [
      "C:\\Users\\adria\\anaconda3\\envs\\mi_entorno_virtual\\lib\\site-packages\\transformers\\utils\\generic.py:441: UserWarning: torch.utils._pytree._register_pytree_node is deprecated. Please use torch.utils._pytree.register_pytree_node instead.\n",
      "  _torch_pytree._register_pytree_node(\n",
      "C:\\Users\\adria\\anaconda3\\envs\\mi_entorno_virtual\\lib\\site-packages\\transformers\\utils\\generic.py:309: UserWarning: torch.utils._pytree._register_pytree_node is deprecated. Please use torch.utils._pytree.register_pytree_node instead.\n",
      "  _torch_pytree._register_pytree_node(\n"
     ]
    }
   ],
   "source": [
    "import pandas as pd\n",
    "import os\n",
    "import numpy as np\n",
    "from sklearn.feature_extraction.text import CountVectorizer\n",
    "from sklearn.preprocessing import MultiLabelBinarizer\n",
    "from sklearn.multiclass import OneVsRestClassifier\n",
    "from sklearn.ensemble import RandomForestRegressor, RandomForestClassifier\n",
    "from sklearn.metrics import r2_score, roc_auc_score,accuracy_score\n",
    "from sklearn.model_selection import train_test_split\n",
    "from sklearn.feature_extraction.text import TfidfVectorizer\n",
    "from nltk.stem import WordNetLemmatizer\n",
    "from nltk.stem import PorterStemmer\n",
    "from nltk.stem.snowball import SnowballStemmer\n",
    "from sklearn.model_selection import GridSearchCV\n",
    "from sklearn.linear_model import SGDClassifier, LogisticRegression\n",
    "from sklearn.naive_bayes import GaussianNB, MultinomialNB\n",
    "from sklearn.svm import SVC\n",
    "import spacy\n",
    "import seaborn as sns\n",
    "import matplotlib.pyplot as plt\n",
    "import nltk\n",
    "from nltk.corpus import stopwords\n",
    "import re\n",
    "import spacy_transformers\n",
    "import multiprocessing\n",
    "from sklearn.pipeline import Pipeline\n",
    "import xgboost as xgb\n",
    "from collections import Counter\n",
    "\n",
    "from sklearn.datasets import make_blobs\n",
    "from sklearn.neural_network import MLPClassifier\n",
    "from sklearn.model_selection import RandomizedSearchCV\n",
    "from sklearn.model_selection import GridSearchCV\n",
    "from sklearn.model_selection import KFold\n",
    "import multiprocessing\n",
    "\n",
    "import ast\n",
    "from sklearn.preprocessing import MultiLabelBinarizer\n",
    "\n",
    "from itertools import product\n"
   ]
  },
  {
   "cell_type": "code",
   "execution_count": 5,
   "id": "b6f6f7d1",
   "metadata": {},
   "outputs": [],
   "source": [
    "dataTraining = pd.read_csv('https://github.com/sergiomora03/AdvancedTopicsAnalytics/raw/main/datasets/dataTraining.zip', encoding='UTF-8', index_col=0)\n",
    "dataTesting = pd.read_csv('https://github.com/sergiomora03/AdvancedTopicsAnalytics/raw/main/datasets/dataTesting.zip', encoding='UTF-8', index_col=0)"
   ]
  },
  {
   "cell_type": "code",
   "execution_count": 6,
   "id": "a46462f2",
   "metadata": {},
   "outputs": [
    {
     "name": "stdout",
     "output_type": "stream",
     "text": [
      "      year                      title  \\\n",
      "3107  2003                       Most   \n",
      "900   2008  How to Be a Serial Killer   \n",
      "6724  1941             A Woman's Face   \n",
      "4704  1954            Executive Suite   \n",
      "2582  1990              Narrow Margin   \n",
      "\n",
      "                                                   plot  \\\n",
      "3107  most is the story of a single father who takes...   \n",
      "900   a serial killer decides to teach the secrets o...   \n",
      "6724  in sweden ,  a female blackmailer with a disfi...   \n",
      "4704  in a friday afternoon in new york ,  the presi...   \n",
      "2582  in los angeles ,  the editor of a publishing h...   \n",
      "\n",
      "                                  genres  rating  \n",
      "3107                  ['Short', 'Drama']     8.0  \n",
      "900        ['Comedy', 'Crime', 'Horror']     5.6  \n",
      "6724  ['Drama', 'Film-Noir', 'Thriller']     7.2  \n",
      "4704                           ['Drama']     7.4  \n",
      "2582     ['Action', 'Crime', 'Thriller']     6.6  \n"
     ]
    }
   ],
   "source": [
    "print(dataTraining.head())"
   ]
  },
  {
   "cell_type": "code",
   "execution_count": 7,
   "id": "98ed7af5",
   "metadata": {},
   "outputs": [
    {
     "name": "stdout",
     "output_type": "stream",
     "text": [
      "              year       rating\n",
      "count  7895.000000  7895.000000\n",
      "mean   1989.726409     6.402812\n",
      "std      22.660717     1.078260\n",
      "min    1894.000000     1.200000\n",
      "25%    1980.000000     5.800000\n",
      "50%    1997.000000     6.500000\n",
      "75%    2007.000000     7.200000\n",
      "max    2015.000000     9.300000\n"
     ]
    }
   ],
   "source": [
    "print(dataTraining.describe())"
   ]
  },
  {
   "cell_type": "code",
   "execution_count": 8,
   "id": "c25730a0",
   "metadata": {},
   "outputs": [
    {
     "name": "stdout",
     "output_type": "stream",
     "text": [
      "<class 'pandas.core.frame.DataFrame'>\n",
      "Int64Index: 7895 entries, 3107 to 215\n",
      "Data columns (total 5 columns):\n",
      " #   Column  Non-Null Count  Dtype  \n",
      "---  ------  --------------  -----  \n",
      " 0   year    7895 non-null   int64  \n",
      " 1   title   7895 non-null   object \n",
      " 2   plot    7895 non-null   object \n",
      " 3   genres  7895 non-null   object \n",
      " 4   rating  7895 non-null   float64\n",
      "dtypes: float64(1), int64(1), object(3)\n",
      "memory usage: 370.1+ KB\n",
      "None\n"
     ]
    }
   ],
   "source": [
    "print(dataTraining.info())"
   ]
  },
  {
   "cell_type": "code",
   "execution_count": 9,
   "id": "f4786dac",
   "metadata": {},
   "outputs": [
    {
     "name": "stdout",
     "output_type": "stream",
     "text": [
      "year      0\n",
      "title     0\n",
      "plot      0\n",
      "genres    0\n",
      "rating    0\n",
      "dtype: int64\n"
     ]
    }
   ],
   "source": [
    "print(dataTraining.isnull().sum())"
   ]
  },
  {
   "cell_type": "code",
   "execution_count": 10,
   "id": "dcf65252",
   "metadata": {},
   "outputs": [
    {
     "data": {
      "text/plain": [
       "['Drama']                                                             429\n",
       "['Comedy']                                                            368\n",
       "['Comedy', 'Drama', 'Romance']                                        306\n",
       "['Comedy', 'Romance']                                                 291\n",
       "['Comedy', 'Drama']                                                   287\n",
       "                                                                     ... \n",
       "['Action', 'Adventure', 'Comedy', 'Fantasy', 'Thriller']                1\n",
       "['Action', 'Adventure', 'Crime', 'Drama', 'Sci-Fi']                     1\n",
       "['Drama', 'Action', 'Crime']                                            1\n",
       "['Biography', 'Comedy', 'Crime', 'Drama', 'Romance']                    1\n",
       "['Animation', 'Adventure', 'Drama', 'Family', 'Fantasy', 'Sci-Fi']      1\n",
       "Name: genres, Length: 1336, dtype: int64"
      ]
     },
     "execution_count": 10,
     "metadata": {},
     "output_type": "execute_result"
    }
   ],
   "source": [
    "dataTraining['genres'].value_counts()\n"
   ]
  },
  {
   "cell_type": "code",
   "execution_count": 11,
   "id": "96159dd4",
   "metadata": {},
   "outputs": [
    {
     "name": "stderr",
     "output_type": "stream",
     "text": [
      "C:\\Users\\adria\\AppData\\Local\\Temp\\ipykernel_18736\\1254187909.py:4: FutureWarning: \n",
      "\n",
      "Passing `palette` without assigning `hue` is deprecated and will be removed in v0.14.0. Assign the `y` variable to `hue` and set `legend=False` for the same effect.\n",
      "\n",
      "  sns.barplot(x=top_genres, y=top_genres.index, palette='viridis')\n"
     ]
    },
    {
     "data": {
      "image/png": "[encoded data removed]",
      "text/plain": [
       "<Figure size 1400x700 with 1 Axes>"
      ]
     },
     "metadata": {},
     "output_type": "display_data"
    }
   ],
   "source": [
    "top_genres = dataTraining['genres'].value_counts().nlargest(30)\n",
    "\n",
    "plt.figure(figsize=(14, 7))\n",
    "sns.barplot(x=top_genres, y=top_genres.index, palette='viridis')\n",
    "plt.xlabel('Count', fontsize=14, fontweight='bold')\n",
    "plt.ylabel('Genre', fontsize=14, fontweight='bold')\n",
    "plt.title('Top 30 de los generos', fontsize=16, fontweight='bold')\n",
    "plt.show()"
   ]
  },
  {
   "cell_type": "code",
   "execution_count": 12,
   "id": "ebd20237",
   "metadata": {},
   "outputs": [
    {
     "data": {
      "text/plain": [
       "\"major benson winifred payne is being discharged from the marines .  payne is a killin '  machine ,  but the wars of the world are no longer fought on the battlefield .  a career marine ,  he has no idea what to do as a civilian ,  so his commander finds him a job  -  commanding officer of a local school ' s jrotc program ,  a bunch or ragtag losers with no hope .  using such teaching tools as live grenades and real bullets ,  payne starts to instill the corp with some hope .  but when payne is recalled to fight in bosnia ,  will he leave the corp that has just started to believe in him ,  or will he find out that killin '  ain ' t much of a livin '  ?\""
      ]
     },
     "execution_count": 12,
     "metadata": {},
     "output_type": "execute_result"
    }
   ],
   "source": [
    "dataTraining['plot'][0]"
   ]
  },
  {
   "cell_type": "code",
   "execution_count": 13,
   "id": "97de9cb7",
   "metadata": {},
   "outputs": [
    {
     "name": "stderr",
     "output_type": "stream",
     "text": [
      "[nltk_data] Downloading package punkt to\n",
      "[nltk_data]     C:\\Users\\adria\\AppData\\Roaming\\nltk_data...\n",
      "[nltk_data]   Package punkt is already up-to-date!\n",
      "[nltk_data] Downloading package wordnet to\n",
      "[nltk_data]     C:\\Users\\adria\\AppData\\Roaming\\nltk_data...\n",
      "[nltk_data]   Package wordnet is already up-to-date!\n",
      "[nltk_data] Downloading package stopwords to\n",
      "[nltk_data]     C:\\Users\\adria\\AppData\\Roaming\\nltk_data...\n",
      "[nltk_data]   Package stopwords is already up-to-date!\n"
     ]
    }
   ],
   "source": [
    "nltk.download('punkt')\n",
    "nltk.download('wordnet')\n",
    "nltk.download('stopwords')\n",
    "stopwords_en = stopwords.words('english')"
   ]
  },
  {
   "cell_type": "markdown",
   "id": "ff2881ff",
   "metadata": {},
   "source": [
    "### Palabras mas usadas"
   ]
  },
  {
   "cell_type": "code",
   "execution_count": 14,
   "id": "08fbee83",
   "metadata": {},
   "outputs": [
    {
     "name": "stdout",
     "output_type": "stream",
     "text": [
      ",: 57327\n",
      ".: 46614\n",
      "': 15571\n",
      "-: 10466\n",
      "``: 4776\n",
      "n: 3832\n",
      "one: 3010\n",
      "life: 2721\n",
      "new: 2255\n",
      "(: 2072\n",
      "): 2059\n",
      "man: 1927\n",
      "two: 1728\n",
      "get: 1713\n",
      "family: 1599\n",
      "love: 1530\n",
      "find: 1457\n",
      "father: 1454\n",
      "time: 1433\n",
      "young: 1356\n",
      "also: 1311\n",
      "old: 1249\n",
      "finds: 1243\n",
      "world: 1211\n",
      "back: 1210\n",
      ";: 1202\n",
      "years: 1201\n",
      "friend: 1189\n",
      "wife: 1173\n",
      "?: 1136\n",
      ":: 1112\n",
      "home: 1057\n",
      "wants: 1044\n",
      "way: 1040\n",
      "mother: 1033\n",
      "help: 1024\n",
      "friends: 1001\n",
      "go: 989\n",
      "school: 986\n",
      "however: 985\n",
      "make: 961\n",
      "house: 948\n",
      "day: 940\n",
      "first: 929\n",
      "woman: 924\n",
      "lives: 916\n",
      "story: 911\n",
      "son: 903\n",
      "town: 900\n",
      "soon: 892\n"
     ]
    }
   ],
   "source": [
    "# Combina todos los textos en una sola cadena\n",
    "text_combined = ' '.join(dataTraining['plot'])\n",
    "\n",
    "# Tokeniza el texto en palabras y convierte a minúsculas\n",
    "words = [word.lower() for word in nltk.word_tokenize(text_combined)]\n",
    "\n",
    "# Elimina las palabras vacías (stop words) en inglés\n",
    "stop_words = set(stopwords.words('english'))\n",
    "filtered_words = [word for word in words if word not in stop_words]\n",
    "\n",
    "# Cuenta la frecuencia de cada palabra\n",
    "word_counts = Counter(filtered_words)\n",
    "\n",
    "# Muestra las 50 palabras más comunes\n",
    "for word, count in word_counts.most_common(50):\n",
    "    print(f'{word}: {count}')"
   ]
  },
  {
   "cell_type": "markdown",
   "id": "af061718",
   "metadata": {},
   "source": [
    "### Extraer genero a genero"
   ]
  },
  {
   "cell_type": "code",
   "execution_count": 15,
   "id": "072452b0",
   "metadata": {
    "scrolled": true
   },
   "outputs": [
    {
     "name": "stdout",
     "output_type": "stream",
     "text": [
      "['Comedy', 'Crime', 'Drama', 'Film-Noir', 'Horror', 'Short', 'Thriller']\n"
     ]
    }
   ],
   "source": [
    "unique_genres = set()\n",
    "\n",
    "# Iterar por cada fila para extraer los diferentes géneros.\n",
    "for genres_string in dataTraining['genres'][:3]:\n",
    "    genres_list = eval(genres_string)  # Evalúa la expresión para convertir la cadena a una lista de géneros\n",
    "    unique_genres.update(genres_list)\n",
    "\n",
    "unique_genres = set(genre for genres_string in dataTraining['genres'][:3] for genre in eval(genres_string))\n",
    "\n",
    "print(sorted(unique_genres))\n"
   ]
  },
  {
   "cell_type": "markdown",
   "id": "7a8d2668",
   "metadata": {},
   "source": [
    "### Procesamiento del texto"
   ]
  },
  {
   "cell_type": "code",
   "execution_count": 16,
   "id": "e6b5cbaf",
   "metadata": {},
   "outputs": [],
   "source": [
    "dataTraining['genres'] = dataTraining['genres'].map(ast.literal_eval)\n",
    "\n",
    "matriz = MultiLabelBinarizer()\n",
    "\n",
    "# Vectoriza los géneros del conjunto de entrenamiento\n",
    "y = matriz.fit_transform(dataTraining['genres'])\n",
    "\n",
    "#Lematizador\n",
    "lematizador = WordNetLemmatizer()\n",
    "#Stemming\n",
    "stemming = PorterStemmer()\n",
    "stemmingsnow = SnowballStemmer('english')\n",
    "\n",
    "#Modelo en ingles de spacy\n",
    "nlp = spacy.load(\"en_core_web_sm\")\n",
    "\n",
    "#Añadir stopwords adicionales que se consideren necesarios\n",
    "stopwords_adicionales = [\"is\", \"the\",\"huw\",\"a\",\"b\",\"c\",\"d\",\"e\",\"f\",\"g\",\"h\",\"i\",\"j\",\"k\",\"l\",\"m\",\"n\",\"o\",\"p\",\"q\",\"r\",\"s\",\"t\",\"u\",\"v\",\"w\",\"x\",\"y\",\"z\"]\n",
    "stopwords_en.extend(stopwords_adicionales)"
   ]
  },
  {
   "cell_type": "code",
   "execution_count": 17,
   "id": "9270bc99",
   "metadata": {},
   "outputs": [],
   "source": [
    "def eliminar_nombres(text):\n",
    "    doc = nlp(text)\n",
    "\n",
    "    # Filtrar palabras que son nombres propios, personas, numeros ordinales y cardinales\n",
    "    filtro = [token.text for token in doc if not token.ent_type_ in ('PERSON')]\n",
    "    \n",
    "    text = ' '.join(filtro)\n",
    "\n",
    "    return text"
   ]
  },
  {
   "cell_type": "code",
   "execution_count": 18,
   "id": "69b289b1",
   "metadata": {},
   "outputs": [],
   "source": [
    "def preprocesamiento(text):\n",
    "    # Convertir todo a lowercase\n",
    "    text = text.str.lower()\n",
    "    \n",
    "    # Eliminar stopwords\n",
    "    text = text.apply(lambda x: ' '.join([word for word in x.split() if word not in stopwords_en]))\n",
    "    \n",
    "    # Quitar caracteres que no sean letras (Se eliminan caracteres especiales y números)\n",
    "    text = text.apply(lambda x: ' '.join([re.sub(r'[^a-zA-Z]', '', word) for word in x.split()]))\n",
    "    \n",
    "    # Quitar espacios en blanco\n",
    "    text = text.apply(lambda x: ' '.join(x.split()))\n",
    "    \n",
    "    # Lematización\n",
    "    text = text.apply(lambda x: ' '.join([lematizador.lemmatize(word) for word in x.split()]))\n",
    "    \n",
    "    # Stemming (usando Porter Stemmer)\n",
    "    text = text.apply(lambda x: ' '.join([stemming.stem(word) for word in x.split()]))\n",
    "\n",
    "    return text\n",
    "\n",
    "dataTraining['plot'] = preprocesamiento(dataTraining['plot'])\n"
   ]
  },
  {
   "cell_type": "markdown",
   "id": "e0cafc71",
   "metadata": {},
   "source": [
    "### Modelos"
   ]
  },
  {
   "cell_type": "markdown",
   "id": "8c7d432d",
   "metadata": {},
   "source": [
    "#### XGBoost"
   ]
  },
  {
   "cell_type": "code",
   "execution_count": 19,
   "id": "acf59b7c",
   "metadata": {},
   "outputs": [
    {
     "data": {
      "text/plain": [
       "(7895, 11019)"
      ]
     },
     "execution_count": 19,
     "metadata": {},
     "output_type": "execute_result"
    }
   ],
   "source": [
    "#Vector\n",
    "vectxg = CountVectorizer(min_df=3,binary = True)\n",
    "X = vectxg.fit_transform(dataTraining['plot'])\n",
    "X.shape"
   ]
  },
  {
   "cell_type": "code",
   "execution_count": 20,
   "id": "d6080764",
   "metadata": {},
   "outputs": [],
   "source": [
    "X_train, X_test, y_train, y_test = train_test_split(X, y, test_size=0.25, random_state=1306)"
   ]
  },
  {
   "cell_type": "code",
   "execution_count": 21,
   "id": "03d94063",
   "metadata": {},
   "outputs": [],
   "source": [
    "insumo_modelos=['Modelo','Arboles','Profundidad','Learning_Rate','AUC_Train','AUC_Test']\n",
    "results=pd.DataFrame(columns=insumo_modelos)"
   ]
  },
  {
   "cell_type": "code",
   "execution_count": 22,
   "id": "103d732a",
   "metadata": {},
   "outputs": [
    {
     "name": "stdout",
     "output_type": "stream",
     "text": [
      "Hiperparámetros:\n",
      "min_child_weight: 1\n",
      "reg_lambda: 5\n",
      "subsample: 0.8\n",
      "n_estimators: [150]\n",
      "max_depth: [11]\n",
      "learning_rate: [0.1]\n"
     ]
    }
   ],
   "source": [
    "# Parámetros/Factores Fijos \n",
    "min_child_weight_fx = 1 #valores altos se usan para conjuntos de datos desquilibrados o con ruido\n",
    "reg_lambda_fx = 5 # Valores más altos proporcionan más regularización.\n",
    "subsample_fx = 0.8 #Un valor más bajo puede mejorar la generalización.\n",
    "\n",
    "# Parámetros/Factores Variables\n",
    "n_estimators = [150] #Numero de estimadores\n",
    "max_depth = [11] \n",
    "learning_rate = [0.1] \n",
    "\n",
    "# Configuración de hiperparámetros\n",
    "hyperparameters = {\n",
    "    'min_child_weight': min_child_weight_fx,\n",
    "    'reg_lambda': reg_lambda_fx,\n",
    "    'subsample': subsample_fx,\n",
    "    'n_estimators': n_estimators,\n",
    "    'max_depth': max_depth,\n",
    "    'learning_rate': learning_rate\n",
    "}\n",
    "\n",
    "# Imprimir los hiperparámetros para referencia\n",
    "print(\"Hiperparámetros:\")\n",
    "for key, value in hyperparameters.items():\n",
    "    print(f'{key}: {value}')"
   ]
  },
  {
   "cell_type": "code",
   "execution_count": 23,
   "id": "181d8c01",
   "metadata": {},
   "outputs": [
    {
     "name": "stdout",
     "output_type": "stream",
     "text": [
      "    Modelo  Arboles  Profundidad  Learning_Rate  AUC_Train  AUC_Test\n",
      "0  XGBoost      150           11            0.1   0.990584  0.860095\n"
     ]
    }
   ],
   "source": [
    "np.random.seed(1306)\n",
    "\n",
    "results_list = []\n",
    "\n",
    "# Iterar sobre todas las combinaciones de hiperparámetros\n",
    "for es, dp, lr in product(n_estimators, max_depth, learning_rate):\n",
    "    # Modelo\n",
    "    model_exp = xgb.XGBClassifier(\n",
    "        booster='gbtree', max_depth=dp, learning_rate=lr,\n",
    "        n_estimators=es, min_child_weight=min_child_weight_fx,\n",
    "        subsample=subsample_fx, reg_lambda=reg_lambda_fx\n",
    "    )\n",
    "\n",
    "    # Entrenamiento\n",
    "    model_exp.fit(X_train, y_train)\n",
    "\n",
    "    # Predicción sobre Train\n",
    "    y_train_pred = model_exp.predict_proba(X_train)\n",
    "    # Predicción sobre Test\n",
    "    y_test_pred = model_exp.predict_proba(X_test)\n",
    "\n",
    "    # AUC Train\n",
    "    AUC_train= roc_auc_score(y_train, y_train_pred, average='macro')\n",
    "    # AUC Test\n",
    "    AUC_test= roc_auc_score(y_test, y_test_pred, average='macro')\n",
    "\n",
    "    # Almacenar en la lista de resultados\n",
    "    results_list.append(['XGBoost', es, dp, lr, AUC_train, AUC_test])\n",
    "\n",
    "# Convertir la lista de resultados a DataFrame\n",
    "results = pd.DataFrame(results_list, columns=insumo_modelos)\n",
    "\n",
    "# Imprimir resultados finales si es necesario\n",
    "print(results)"
   ]
  },
  {
   "cell_type": "markdown",
   "id": "bcfa73df",
   "metadata": {},
   "source": [
    "#### Regresion logistica"
   ]
  },
  {
   "cell_type": "code",
   "execution_count": 26,
   "id": "b29bad9a",
   "metadata": {},
   "outputs": [
    {
     "data": {
      "text/plain": [
       "(7895, 26893)"
      ]
     },
     "execution_count": 26,
     "metadata": {},
     "output_type": "execute_result"
    }
   ],
   "source": [
    "vectrl = TfidfVectorizer(binary = True) \n",
    "X_dtmrl= vectrl.fit_transform(dataTraining['plot']) #Vector\n",
    "X_dtmrl.shape"
   ]
  },
  {
   "cell_type": "code",
   "execution_count": 45,
   "id": "3389244c",
   "metadata": {},
   "outputs": [],
   "source": [
    "X_train_rl, X_test_rl, y_train_rl, y_test_rl = train_test_split(X_dtmrl, y, test_size=0.25, random_state=1306)"
   ]
  },
  {
   "cell_type": "code",
   "execution_count": 46,
   "id": "934cc189",
   "metadata": {},
   "outputs": [
    {
     "data": {
      "text/html": [
       "<style>#sk-container-id-3 {color: black;background-color: white;}#sk-container-id-3 pre{padding: 0;}#sk-container-id-3 div.sk-toggleable {background-color: white;}#sk-container-id-3 label.sk-toggleable__label {cursor: pointer;display: block;width: 100%;margin-bottom: 0;padding: 0.3em;box-sizing: border-box;text-align: center;}#sk-container-id-3 label.sk-toggleable__label-arrow:before {content: \"▸\";float: left;margin-right: 0.25em;color: #696969;}#sk-container-id-3 label.sk-toggleable__label-arrow:hover:before {color: black;}#sk-container-id-3 div.sk-estimator:hover label.sk-toggleable__label-arrow:before {color: black;}#sk-container-id-3 div.sk-toggleable__content {max-height: 0;max-width: 0;overflow: hidden;text-align: left;background-color: #f0f8ff;}#sk-container-id-3 div.sk-toggleable__content pre {margin: 0.2em;color: black;border-radius: 0.25em;background-color: #f0f8ff;}#sk-container-id-3 input.sk-toggleable__control:checked~div.sk-toggleable__content {max-height: 200px;max-width: 100%;overflow: auto;}#sk-container-id-3 input.sk-toggleable__control:checked~label.sk-toggleable__label-arrow:before {content: \"▾\";}#sk-container-id-3 div.sk-estimator input.sk-toggleable__control:checked~label.sk-toggleable__label {background-color: #d4ebff;}#sk-container-id-3 div.sk-label input.sk-toggleable__control:checked~label.sk-toggleable__label {background-color: #d4ebff;}#sk-container-id-3 input.sk-hidden--visually {border: 0;clip: rect(1px 1px 1px 1px);clip: rect(1px, 1px, 1px, 1px);height: 1px;margin: -1px;overflow: hidden;padding: 0;position: absolute;width: 1px;}#sk-container-id-3 div.sk-estimator {font-family: monospace;background-color: #f0f8ff;border: 1px dotted black;border-radius: 0.25em;box-sizing: border-box;margin-bottom: 0.5em;}#sk-container-id-3 div.sk-estimator:hover {background-color: #d4ebff;}#sk-container-id-3 div.sk-parallel-item::after {content: \"\";width: 100%;border-bottom: 1px solid gray;flex-grow: 1;}#sk-container-id-3 div.sk-label:hover label.sk-toggleable__label {background-color: #d4ebff;}#sk-container-id-3 div.sk-serial::before {content: \"\";position: absolute;border-left: 1px solid gray;box-sizing: border-box;top: 0;bottom: 0;left: 50%;z-index: 0;}#sk-container-id-3 div.sk-serial {display: flex;flex-direction: column;align-items: center;background-color: white;padding-right: 0.2em;padding-left: 0.2em;position: relative;}#sk-container-id-3 div.sk-item {position: relative;z-index: 1;}#sk-container-id-3 div.sk-parallel {display: flex;align-items: stretch;justify-content: center;background-color: white;position: relative;}#sk-container-id-3 div.sk-item::before, #sk-container-id-3 div.sk-parallel-item::before {content: \"\";position: absolute;border-left: 1px solid gray;box-sizing: border-box;top: 0;bottom: 0;left: 50%;z-index: -1;}#sk-container-id-3 div.sk-parallel-item {display: flex;flex-direction: column;z-index: 1;position: relative;background-color: white;}#sk-container-id-3 div.sk-parallel-item:first-child::after {align-self: flex-end;width: 50%;}#sk-container-id-3 div.sk-parallel-item:last-child::after {align-self: flex-start;width: 50%;}#sk-container-id-3 div.sk-parallel-item:only-child::after {width: 0;}#sk-container-id-3 div.sk-dashed-wrapped {border: 1px dashed gray;margin: 0 0.4em 0.5em 0.4em;box-sizing: border-box;padding-bottom: 0.4em;background-color: white;}#sk-container-id-3 div.sk-label label {font-family: monospace;font-weight: bold;display: inline-block;line-height: 1.2em;}#sk-container-id-3 div.sk-label-container {text-align: center;}#sk-container-id-3 div.sk-container {/* jupyter's `normalize.less` sets `[hidden] { display: none; }` but bootstrap.min.css set `[hidden] { display: none !important; }` so we also need the `!important` here to be able to override the default hidden behavior on the sphinx rendered scikit-learn.org. See: https://github.com/scikit-learn/scikit-learn/issues/21755 */display: inline-block !important;position: relative;}#sk-container-id-3 div.sk-text-repr-fallback {display: none;}</style><div id=\"sk-container-id-3\" class=\"sk-top-container\"><div class=\"sk-text-repr-fallback\"><pre>OneVsRestClassifier(estimator=LogisticRegression(C=0.01,\n",
       "                                                 multi_class=&#x27;multinomial&#x27;,\n",
       "                                                 n_jobs=-1))</pre><b>In a Jupyter environment, please rerun this cell to show the HTML representation or trust the notebook. <br />On GitHub, the HTML representation is unable to render, please try loading this page with nbviewer.org.</b></div><div class=\"sk-container\" hidden><div class=\"sk-item sk-dashed-wrapped\"><div class=\"sk-label-container\"><div class=\"sk-label sk-toggleable\"><input class=\"sk-toggleable__control sk-hidden--visually\" id=\"sk-estimator-id-7\" type=\"checkbox\" ><label for=\"sk-estimator-id-7\" class=\"sk-toggleable__label sk-toggleable__label-arrow\">OneVsRestClassifier</label><div class=\"sk-toggleable__content\"><pre>OneVsRestClassifier(estimator=LogisticRegression(C=0.01,\n",
       "                                                 multi_class=&#x27;multinomial&#x27;,\n",
       "                                                 n_jobs=-1))</pre></div></div></div><div class=\"sk-parallel\"><div class=\"sk-parallel-item\"><div class=\"sk-item\"><div class=\"sk-label-container\"><div class=\"sk-label sk-toggleable\"><input class=\"sk-toggleable__control sk-hidden--visually\" id=\"sk-estimator-id-8\" type=\"checkbox\" ><label for=\"sk-estimator-id-8\" class=\"sk-toggleable__label sk-toggleable__label-arrow\">estimator: LogisticRegression</label><div class=\"sk-toggleable__content\"><pre>LogisticRegression(C=0.01, multi_class=&#x27;multinomial&#x27;, n_jobs=-1)</pre></div></div></div><div class=\"sk-serial\"><div class=\"sk-item\"><div class=\"sk-estimator sk-toggleable\"><input class=\"sk-toggleable__control sk-hidden--visually\" id=\"sk-estimator-id-9\" type=\"checkbox\" ><label for=\"sk-estimator-id-9\" class=\"sk-toggleable__label sk-toggleable__label-arrow\">LogisticRegression</label><div class=\"sk-toggleable__content\"><pre>LogisticRegression(C=0.01, multi_class=&#x27;multinomial&#x27;, n_jobs=-1)</pre></div></div></div></div></div></div></div></div></div></div>"
      ],
      "text/plain": [
       "OneVsRestClassifier(estimator=LogisticRegression(C=0.01,\n",
       "                                                 multi_class='multinomial',\n",
       "                                                 n_jobs=-1))"
      ]
     },
     "execution_count": 46,
     "metadata": {},
     "output_type": "execute_result"
    }
   ],
   "source": [
    "modelo_reglog = LogisticRegression(n_jobs=-1, C=0.01, multi_class='multinomial', solver='lbfgs')\n",
    "\n",
    "clf_lr_tfidf_preproc = OneVsRestClassifier(modelo_reglog)\n",
    "clf_lr_tfidf_preproc.fit(X_train_rl, y_train_rl)"
   ]
  },
  {
   "cell_type": "code",
   "execution_count": 47,
   "id": "af8ab196",
   "metadata": {},
   "outputs": [],
   "source": [
    "y_pred_test_rl = clf_lr_tfidf_preproc.predict_proba(X_test_rl)"
   ]
  },
  {
   "cell_type": "code",
   "execution_count": 49,
   "id": "3dd5703d",
   "metadata": {},
   "outputs": [
    {
     "data": {
      "text/plain": [
       "0.89"
      ]
     },
     "execution_count": 49,
     "metadata": {},
     "output_type": "execute_result"
    }
   ],
   "source": [
    "AUC_test = roc_auc_score(y_test_rl, y_pred_test_rl, average='macro')\n",
    "round(AUC_test,2)"
   ]
  },
  {
   "cell_type": "code",
   "execution_count": 51,
   "id": "9f2b8bff",
   "metadata": {},
   "outputs": [],
   "source": [
    "y_pred_train_rl = clf_lr_tfidf_preproc.predict_proba(X_train_rl)"
   ]
  },
  {
   "cell_type": "code",
   "execution_count": 52,
   "id": "4095e595",
   "metadata": {},
   "outputs": [
    {
     "data": {
      "text/plain": [
       "0.96"
      ]
     },
     "execution_count": 52,
     "metadata": {},
     "output_type": "execute_result"
    }
   ],
   "source": [
    "AUC_train = roc_auc_score(y_train_rl, y_pred_train_rl, average='macro')\n",
    "round(AUC_train,2)"
   ]
  }
 ],
 "metadata": {
  "kernelspec": {
   "display_name": "Python 3 (ipykernel)",
   "language": "python",
   "name": "python3"
  },
  "language_info": {
   "codemirror_mode": {
    "name": "ipython",
    "version": 3
   },
   "file_extension": ".py",
   "mimetype": "text/x-python",
   "name": "python",
   "nbconvert_exporter": "python",
   "pygments_lexer": "ipython3",
   "version": "3.8.18"
  }
 },
 "nbformat": 4,
 "nbformat_minor": 5
}
